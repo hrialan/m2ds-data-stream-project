{
 "cells": [
  {
   "cell_type": "markdown",
   "metadata": {},
   "source": [
    "# Project 5 : Predict markets stocks of Google, Facebook & Amazon.\n",
    "\n",
    "## MAP670G - Data Stream (2021-2022)\n",
    "<blockquote> \n",
    "Alexandre PERBET<br>\n",
    "Cyril NERIN<br>\n",
    "Hugo RIALAN<br>\n",
    "</blockquote>\n",
    "\n",
    "__PART 2 : ON-LINE MACHINE LEARNING WITH RIVER AND KAFKA__"
   ]
  },
  {
   "cell_type": "markdown",
   "metadata": {},
   "source": [
    "<br>\n",
    "<img src=\"Google_Facebook_Amazon.PNG\" width=\"600\" height=\"600\">\n",
    "<br>"
   ]
  },
  {
   "cell_type": "markdown",
   "metadata": {},
   "source": [
    "__Project 5 : Collect trading data using Yahoo finance API and use online regression to predict markets stocks of Google, Facebook & Amazon.__\n",
    "\n",
    "__Option 2 :__ For each of these 5 countries, use 1 major industry stock data\n",
    "For ex, in US Google,  in France BNP Paribas, in China Alibaba, in Russia or England, use a major international industry.\n",
    "This option was initially given in the project.\n",
    "\n",
    "For each option, each group should use at least 3 different data streams, with online and adaptive regression on RIVER (such as https://riverml.xyz/latest/api/tree/HoeffdingAdaptiveTreeRegressor/) and compare the performances with batch regression model (scikit-learn).\n",
    "\n",
    "__ToDo:__ Compare online Regression vs Batch Regression and discuss the performance.\n",
    "\n",
    "__Bonus :__ Use recent stock market data (from January to March 2022).\n",
    "\n",
    "__Online resources:__ \n",
    "You can use the Python library to collect Yahoo Finance data in streaming https://pypi.org/project/yfinance/\n",
    "You can compute time-series statistics and moving averages (MACD) for features engineering https://www.statsmodels.org/stable/tsa.html\n"
   ]
  },
  {
   "cell_type": "code",
   "execution_count": 12,
   "metadata": {},
   "outputs": [
    {
     "name": "stdout",
     "output_type": "stream",
     "text": [
      "The autoreload extension is already loaded. To reload it, use:\n",
      "  %reload_ext autoreload\n"
     ]
    }
   ],
   "source": [
    "#!/usr/bin/env python3\n",
    "# -*- coding: utf-8 -*-\n",
    "%load_ext autoreload\n",
    "%autoreload 2\n",
    "%matplotlib inline"
   ]
  },
  {
   "cell_type": "markdown",
   "metadata": {},
   "source": [
    "## Libraries"
   ]
  },
  {
   "cell_type": "code",
   "execution_count": 13,
   "metadata": {},
   "outputs": [],
   "source": [
    "!pip3 install --quiet -r requirements.txt"
   ]
  },
  {
   "cell_type": "code",
   "execution_count": 14,
   "metadata": {},
   "outputs": [
    {
     "name": "stdout",
     "output_type": "stream",
     "text": [
      "Python version: 3.9.7 (default, Sep 16 2021, 16:59:28) [MSC v.1916 64 bit (AMD64)]\n",
      "IPython version: 7.27.0\n",
      "NumPy version: 1.20.3\n",
      "SciPy version: 1.7.1\n",
      "pandas version: 1.3.2\n",
      "matplotlib version: 3.4.2\n",
      "seaborn version : 0.11.2\n",
      "kafka version : 2.0.2\n",
      "yfinance version : 0.1.70\n",
      "statsmodels version : 0.13.2\n",
      "scikit-learn version : 1.0.1\n",
      "river version : 0.9.0\n",
      "ipywidgets version : 7.6.5\n",
      "====================================\n"
     ]
    }
   ],
   "source": [
    "import sys \n",
    "print(\"Python version: {}\". format(sys.version))\n",
    "\n",
    "import IPython\n",
    "from IPython import display\n",
    "from IPython.display import Markdown, display\n",
    "print(\"IPython version: {}\". format(IPython.__version__))\n",
    "\n",
    "import numpy as np\n",
    "print(\"NumPy version: {}\". format(np.__version__))\n",
    "\n",
    "import scipy as sp\n",
    "from scipy import stats\n",
    "print(\"SciPy version: {}\". format(sp.__version__))\n",
    "\n",
    "import pandas as pd\n",
    "print(\"pandas version: {}\". format(pd.__version__))\n",
    "\n",
    "import matplotlib\n",
    "import matplotlib.pyplot as plt\n",
    "print(\"matplotlib version: {}\". format(matplotlib.__version__))\n",
    "\n",
    "import seaborn as sns\n",
    "print(\"seaborn version : {}\". format(sns.__version__))\n",
    "sns.set()\n",
    "\n",
    "import kafka\n",
    "from kafka.admin import KafkaAdminClient, NewTopic\n",
    "from kafka import KafkaProducer\n",
    "from kafka import KafkaConsumer\n",
    "print(\"kafka version : {}\". format(kafka.__version__))\n",
    "\n",
    "import yfinance as yf\n",
    "print(\"yfinance version : {}\". format(yf.__version__))\n",
    "\n",
    "import statsmodels\n",
    "print(\"statsmodels version : {}\". format(statsmodels.__version__))\n",
    "import statsmodels.api as sm\n",
    "from statsmodels.tsa.arima.model import ARIMA\n",
    "from statsmodels.graphics.tsaplots import plot_acf, plot_pacf\n",
    "from statsmodels.stats.diagnostic import acorr_ljungbox\n",
    "from statsmodels.tsa.stattools import adfuller, kpss\n",
    "\n",
    "import sklearn\n",
    "from sklearn.metrics import mean_squared_error, mean_absolute_percentage_error, mean_absolute_error, r2_score\n",
    "print(\"scikit-learn version : {}\". format(sklearn.__version__))\n",
    "\n",
    "import river\n",
    "from river import base\n",
    "from river import compose\n",
    "from river import metrics\n",
    "from river import preprocessing\n",
    "from river import evaluate\n",
    "from river import tree\n",
    "from river import ensemble\n",
    "from river import linear_model\n",
    "from river import stats\n",
    "from river import optim\n",
    "print(\"river version : {}\". format(river.__version__))\n",
    "\n",
    "import ipywidgets as widgets\n",
    "print(\"ipywidgets version : {}\". format(widgets.__version__))\n",
    "\n",
    "import time\n",
    "from time import perf_counter\n",
    "from datetime import datetime, date, timedelta\n",
    "\n",
    "from enum import Enum, auto\n",
    "\n",
    "import math\n",
    "\n",
    "import pprint\n",
    "\n",
    "import json\n",
    "\n",
    "import urllib.request\n",
    "\n",
    "import warnings\n",
    "warnings.filterwarnings('ignore')\n",
    "\n",
    "print(\"====================================\")"
   ]
  },
  {
   "cell_type": "markdown",
   "metadata": {},
   "source": [
    "## Utility functions"
   ]
  },
  {
   "cell_type": "code",
   "execution_count": 15,
   "metadata": {},
   "outputs": [],
   "source": [
    "def printmd(text, couleur=None):\n",
    "    \"\"\"\n",
    "    Printing of the string text by choosing the style (for example bold) and the color (couleur)\n",
    "    \"\"\"\n",
    "    colorstr = \"<span style='color:{}'>{}</span>\".format(couleur, text)\n",
    "    display(Markdown(colorstr))"
   ]
  },
  {
   "cell_type": "markdown",
   "metadata": {},
   "source": [
    "## Launching the servers\n",
    "<p><b>LAUNCHING ZOOKEEPER AND KAFKA SERVER ON WINDOWS</b></p>\n",
    "<p> In a <b>first terminal</b>, run the following commands:\n",
    "<p>cd %KAFKA_DIR%\n",
    "<p>.\\bin\\windows\\zookeeper-server-start.bat .\\config\\zookeeper.properties\n",
    "<p>  </p>\n",
    "<p> In a <b>second terminal</b>, run the following commands:\n",
    "<p>cd %KAFKA_DIR%\n",
    "<p>.\\bin\\windows\\kafka-server-start.bat .\\config\\server.properties\n",
    "<p>  -- </p>\n",
    "<p>we assume that Zookeeper is running default on localhost:2181 and Kafka on localhost:9092.</p>"
   ]
  },
  {
   "cell_type": "markdown",
   "metadata": {},
   "source": [
    "# Processing of stock market data in Kafka"
   ]
  },
  {
   "attachments": {
    "Archi_KAFKA_2.PNG": {
     "image/png": "[encoded data removed]"
    }
   },
   "cell_type": "markdown",
   "metadata": {},
   "source": [
    "![Archi_KAFKA_2.PNG](attachment:Archi_KAFKA_2.PNG)"
   ]
  },
  {
   "cell_type": "markdown",
   "metadata": {},
   "source": [
    "__We create a Kafka topic for each company and stream the stock data retrieved with yfinance into these topics.__\n",
    "\n",
    "__In another notebook, we will retrieve this stock market data to apply a Machine Learning model with RIVER.__\n",
    "\n",
    "__In the last notebook, we plot the prediction results from the data stored in the Kafka predicts topics__"
   ]
  },
  {
   "cell_type": "markdown",
   "metadata": {},
   "source": [
    "## stock market data identifiers"
   ]
  },
  {
   "cell_type": "code",
   "execution_count": 16,
   "metadata": {},
   "outputs": [],
   "source": [
    "All_the_companies = [\"google\",\n",
    "                     \"facebook\",\n",
    "                     \"amazon\",\n",
    "                     \"total\",\n",
    "                     \"gazprom\",\n",
    "                     \"alibaba\",\n",
    "                     \"bnp_paribas\",\n",
    "                     \"BP\",\n",
    "                     \"ferrari\"]"
   ]
  },
  {
   "cell_type": "markdown",
   "metadata": {},
   "source": [
    "## Notebook settings"
   ]
  },
  {
   "cell_type": "code",
   "execution_count": 17,
   "metadata": {},
   "outputs": [],
   "source": [
    "trace_on_line_ML = True\n",
    "Nb_to_print = 500\n",
    "pp = pprint.PrettyPrinter()"
   ]
  },
  {
   "cell_type": "markdown",
   "metadata": {},
   "source": [
    "## Creation of topics if needed"
   ]
  },
  {
   "cell_type": "code",
   "execution_count": 18,
   "metadata": {},
   "outputs": [],
   "source": [
    "admin_client = KafkaAdminClient(bootstrap_servers=\"localhost:9092\", client_id=\"Project_DataStream\")\n",
    "\n",
    "topic_name = {}\n",
    "topic_predict_name = {}\n",
    "\n",
    "for company in All_the_companies:\n",
    "    topic_name[company] = company\n",
    "    topic_predict_name[company] = \"predict__{}\".format(company)\n",
    "\n",
    "    # The stock data\n",
    "    if topic_name[company] not in admin_client.list_topics():\n",
    "        topic_list = []\n",
    "        topic_list.append(NewTopic(name=topic_name[company], num_partitions=1, replication_factor=1))\n",
    "        admin_client.create_topics(new_topics=topic_list, validate_only=False)\n",
    "\n",
    "    # The predict results\n",
    "    if topic_predict_name[company] not in admin_client.list_topics():\n",
    "        topic_list = []\n",
    "        topic_list.append(NewTopic(name=topic_predict_name[company], num_partitions=1, replication_factor=1))\n",
    "        admin_client.create_topics(new_topics=topic_list, validate_only=False)"
   ]
  },
  {
   "cell_type": "markdown",
   "metadata": {},
   "source": [
    "# Stock market prediction using On Line regression"
   ]
  },
  {
   "cell_type": "markdown",
   "metadata": {},
   "source": [
    "## Select the company"
   ]
  },
  {
   "cell_type": "code",
   "execution_count": 19,
   "metadata": {},
   "outputs": [
    {
     "name": "stdout",
     "output_type": "stream",
     "text": [
      "The selected company is google\n"
     ]
    }
   ],
   "source": [
    "No_Company = 0              # value from 0 to 8\n",
    "\n",
    "The_selected_company = All_the_companies[No_Company]\n",
    "print(\"The selected company is {}\".format(The_selected_company))"
   ]
  },
  {
   "cell_type": "markdown",
   "metadata": {},
   "source": [
    "## RIVER Regression model"
   ]
  },
  {
   "cell_type": "code",
   "execution_count": 20,
   "metadata": {},
   "outputs": [
    {
     "data": {
      "text/plain": [
       "TargetStandardScaler (\n",
       "  regressor=Pipeline (\n",
       "    steps=OrderedDict([('timestamp_date', FuncTransformer (\n",
       "  func=\"get_timestamp_date\"\n",
       ")), ('scale', StandardScaler (\n",
       "  with_std=True\n",
       ")), ('lin_reg', LinearRegression (\n",
       "  optimizer=SGD (\n",
       "    lr=Constant (\n",
       "      learning_rate=0.03\n",
       "    )\n",
       "  )\n",
       "  loss=Squared ()\n",
       "  l2=0.\n",
       "  intercept_init=0.\n",
       "  intercept_lr=Constant (\n",
       "    learning_rate=0\n",
       "  )\n",
       "  clip_gradient=1e+12\n",
       "  initializer=Zeros ()\n",
       "))])\n",
       "  )\n",
       ")"
      ]
     },
     "execution_count": 20,
     "metadata": {},
     "output_type": "execute_result"
    }
   ],
   "source": [
    "def get_timestamp_date(x):\n",
    "    return {'timestamp_date': x}\n",
    "\n",
    "model = compose.Pipeline(\n",
    "    ('timestamp_date', compose.FuncTransformer(get_timestamp_date)),    \n",
    "    ('scale', preprocessing.StandardScaler()),\n",
    "    ('lin_reg', linear_model.LinearRegression(intercept_lr=0, optimizer=optim.SGD(0.03)))\n",
    ")\n",
    "\n",
    "model = preprocessing.TargetStandardScaler(regressor=model)\n",
    "\n",
    "model"
   ]
  },
  {
   "cell_type": "markdown",
   "metadata": {},
   "source": [
    "## Kafka Consumer : get stock market data and run On Line Machine Learning"
   ]
  },
  {
   "cell_type": "code",
   "execution_count": 21,
   "metadata": {},
   "outputs": [],
   "source": [
    "def evaluate_model(model, The_selected_company, The_value_type=\"Close\"): \n",
    "    \n",
    "    if trace_on_line_ML:\n",
    "        print(\"-----  ON-LINE MACHINE LEARNING FOR {} ----\".format(The_selected_company))\n",
    "\n",
    "    metric = metrics.Rolling(metrics.MAE(), 7)\n",
    "    topic_name = The_selected_company\n",
    "    topic_predict_name = \"predict__{}\".format(The_selected_company)\n",
    "    consumer_group_name = \"{}_on_line_ML\".format(The_selected_company)\n",
    "\n",
    "    consumer = KafkaConsumer(topic_name,\n",
    "                             bootstrap_servers='localhost:9092',\n",
    "                             group_id=consumer_group_name)\n",
    "\n",
    "    producer = KafkaProducer(bootstrap_servers=\"localhost:9092\")\n",
    "\n",
    "    stock_market = {}\n",
    "    nb_msg = 0\n",
    "    # The first prediction is far from the target. It is ignored to make the results plot more readable.\n",
    "    result_to_store = False\n",
    "    \n",
    "    # Init time counter\n",
    "    temps = perf_counter()\n",
    "    \n",
    "    try:\n",
    "        # Infinite loop : the consumer is waiting for message \n",
    "        for message in consumer:\n",
    "            stock_market = json.loads(message.value.decode())\n",
    "            x = stock_market[\"date\"]\n",
    "            y = stock_market[The_value_type]\n",
    "\n",
    "            # There may be some missing data\n",
    "            if not math.isnan(y):\n",
    "                nb_msg += 1\n",
    "\n",
    "                # Obtain the prior prediction and update the model in one go\n",
    "                y_pred = model.predict_one(x)\n",
    "                model.learn_one(x, y)\n",
    "            \n",
    "                # Update the error metric\n",
    "                MAE = metric.update(y, y_pred).get()\n",
    "                \n",
    "                if result_to_store:\n",
    "                    # The true value and the prediction \n",
    "                    # The MAE and the CPU time are sent to the topic <predict>\n",
    "                    predict_result = {}\n",
    "                    predict_result[\"date\"] = x\n",
    "                    predict_result[\"y_true\"] = y\n",
    "                    predict_result[\"y_pred\"] = y_pred\n",
    "                    predict_result[\"CPU_time\"] = perf_counter() - temps\n",
    "                    predict_result[\"MAE\"] = MAE           \n",
    "                    producer.send(topic_predict_name, json.dumps(predict_result).encode())\n",
    "                else:\n",
    "                    result_to_store = True\n",
    "\n",
    "                if nb_msg == 5:\n",
    "                    if trace_on_line_ML:\n",
    "                        print(\"\")\n",
    "                        pp.pprint(predict_result)\n",
    "                        print(\"\")\n",
    "\n",
    "                if nb_msg % Nb_to_print == 0:\n",
    "                    if trace_on_line_ML:\n",
    "                        print(\"{} - {} prediction values sent to the Kafka topic {}\" \\\n",
    "                                .format(time.strftime(\"%d/%m/%Y %H:%M:%S\"),\n",
    "                                        nb_msg,\n",
    "                                        topic_predict_name))\n",
    "    except KeyboardInterrupt:\n",
    "        if trace_on_line_ML:\n",
    "            print (\"\\n-------  END OF ON-LINE MACHINE LEARNING  -------\")\n",
    "    except Exception as e:\n",
    "        print(\"An arror has occurred\")\n",
    "        print(e)"
   ]
  },
  {
   "cell_type": "code",
   "execution_count": 22,
   "metadata": {
    "scrolled": false
   },
   "outputs": [
    {
     "name": "stdout",
     "output_type": "stream",
     "text": [
      "-----  ON-LINE MACHINE LEARNING FOR google ----\n",
      "\n",
      "{'CPU_time': 0.6017079000002923,\n",
      " 'MAE': 359.52136674721476,\n",
      " 'date': 1609785000000,\n",
      " 'y_pred': 1726.6958917122881,\n",
      " 'y_true': 1724.39501953125}\n",
      "\n",
      "27/03/2022 15:01:28 - 500 prediction values sent to the Kafka topic predict__google\n",
      "27/03/2022 15:01:28 - 1000 prediction values sent to the Kafka topic predict__google\n",
      "27/03/2022 15:01:28 - 1500 prediction values sent to the Kafka topic predict__google\n",
      "27/03/2022 15:01:28 - 2000 prediction values sent to the Kafka topic predict__google\n",
      "\n",
      "-------  END OF ON-LINE MACHINE LEARNING  -------\n"
     ]
    }
   ],
   "source": [
    "evaluate_model(model, The_selected_company)"
   ]
  },
  {
   "cell_type": "code",
   "execution_count": null,
   "metadata": {},
   "outputs": [],
   "source": []
  }
 ],
 "metadata": {
  "kernelspec": {
   "display_name": "Python 3 (ipykernel)",
   "language": "python",
   "name": "python3"
  },
  "language_info": {
   "codemirror_mode": {
    "name": "ipython",
    "version": 3
   },
   "file_extension": ".py",
   "mimetype": "text/x-python",
   "name": "python",
   "nbconvert_exporter": "python",
   "pygments_lexer": "ipython3",
   "version": "3.9.7"
  },
  "toc": {
   "base_numbering": 1,
   "nav_menu": {},
   "number_sections": true,
   "sideBar": true,
   "skip_h1_title": false,
   "title_cell": "Table of Contents",
   "title_sidebar": "Contents",
   "toc_cell": false,
   "toc_position": {
    "height": "calc(100% - 180px)",
    "left": "10px",
    "top": "150px",
    "width": "275.513px"
   },
   "toc_section_display": true,
   "toc_window_display": true
  }
 },
 "nbformat": 4,
 "nbformat_minor": 4
}
